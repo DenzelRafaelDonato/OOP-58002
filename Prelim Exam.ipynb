{
  "nbformat": 4,
  "nbformat_minor": 0,
  "metadata": {
    "colab": {
      "name": "Prelim Exam.ipynb",
      "provenance": [],
      "authorship_tag": "ABX9TyMsaDNfKAuNkNZbGlRD8bd5",
      "include_colab_link": true
    },
    "kernelspec": {
      "name": "python3",
      "display_name": "Python 3"
    },
    "language_info": {
      "name": "python"
    }
  },
  "cells": [
    {
      "cell_type": "markdown",
      "metadata": {
        "id": "view-in-github",
        "colab_type": "text"
      },
      "source": [
        "<a href=\"https://colab.research.google.com/github/DenzelRafaelDonato/OOP-58002/blob/main/Prelim%20Exam.ipynb\" target=\"_parent\"><img src=\"https://colab.research.google.com/assets/colab-badge.svg\" alt=\"Open In Colab\"/></a>"
      ]
    },
    {
      "cell_type": "markdown",
      "source": [
        "Problem 1"
      ],
      "metadata": {
        "id": "fXyVhNjfHzj8"
      }
    },
    {
      "cell_type": "code",
      "execution_count": 1,
      "metadata": {
        "colab": {
          "base_uri": "https://localhost:8080/"
        },
        "id": "3dhTH42EE21Q",
        "outputId": "a29d4c48-dc7c-4672-c724-ee5055acd826"
      },
      "outputs": [
        {
          "output_type": "stream",
          "name": "stdout",
          "text": [
            "sum = 210\n",
            "Average = 10.5\n"
          ]
        }
      ],
      "source": [
        "n=20\n",
        "total_numbers = n\n",
        "sum = 0\n",
        "while n>=0:\n",
        "  sum += n\n",
        "  n -= 1\n",
        "print(\"sum =\", sum)\n",
        "\n",
        "average = sum/total_numbers\n",
        "print(\"Average =\", average)"
      ]
    },
    {
      "cell_type": "markdown",
      "source": [
        "Problem 2\n"
      ],
      "metadata": {
        "id": "ZJpUra8LKovl"
      }
    },
    {
      "cell_type": "code",
      "source": [
        "#Name: Denzel Rafael K. Donato\n",
        "#Student Number: 202117497\n",
        "#School: Adamson University\n",
        "#Age: 18 years old\n",
        "#Course: B.S. Computer Engineering\n",
        "\n",
        "class Student:\n",
        "  def __init__(self,name,student_no,age,school,course):\n",
        "    self.name = name\n",
        "    self.student_no = student_no\n",
        "    self.age = age\n",
        "    self.school = school\n",
        "    self.course = course\n",
        "  def Self(self):\n",
        "    print (\"Name:\", self.name)\n",
        "    print (\"Student Number:\", self.student_no)\n",
        "    print (\"Age:\", self.age)\n",
        "    print (\"School:\", self.school)\n",
        "    print (\"Course:\", self.course)\n",
        "  \n",
        "Myself = Student(\"Denzel Rafael K. Donato\",202117497,18,\"Adamson University\",\"B.S. Computer Engineering\")\n",
        "Myself.Self()"
      ],
      "metadata": {
        "colab": {
          "base_uri": "https://localhost:8080/"
        },
        "id": "q-8Ba4xKK60d",
        "outputId": "1061ba8c-0f64-46db-a0dc-8949502868e8"
      },
      "execution_count": 26,
      "outputs": [
        {
          "output_type": "stream",
          "name": "stdout",
          "text": [
            "Name: Denzel Rafael K. Donato\n",
            "Student Number: 202117497\n",
            "Age: 18\n",
            "School: Adamson University\n",
            "Course: B.S. Computer Engineering\n"
          ]
        }
      ]
    }
  ]
}