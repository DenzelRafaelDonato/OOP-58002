{
  "nbformat": 4,
  "nbformat_minor": 0,
  "metadata": {
    "colab": {
      "name": "GUI Application.ipynb",
      "provenance": [],
      "authorship_tag": "ABX9TyMh3fXjxSfw+ErBAvtlAcfn",
      "include_colab_link": true
    },
    "kernelspec": {
      "name": "python3",
      "display_name": "Python 3"
    },
    "language_info": {
      "name": "python"
    }
  },
  "cells": [
    {
      "cell_type": "markdown",
      "metadata": {
        "id": "view-in-github",
        "colab_type": "text"
      },
      "source": [
        "<a href=\"https://colab.research.google.com/github/DenzelRafaelDonato/OOP-58002/blob/main/GUI_Application.ipynb\" target=\"_parent\"><img src=\"https://colab.research.google.com/assets/colab-badge.svg\" alt=\"Open In Colab\"/></a>"
      ]
    },
    {
      "cell_type": "markdown",
      "source": [
        "Create a Python program that displays the grades of a student in prelim, midterm, and final term"
      ],
      "metadata": {
        "id": "bQQfMhS8aBNy"
      }
    },
    {
      "cell_type": "code",
      "execution_count": 25,
      "metadata": {
        "colab": {
          "base_uri": "https://localhost:8080/"
        },
        "id": "nV_BrVSdZ1nu",
        "outputId": "ae63ea24-a046-469a-d310-0fa01e83410a"
      },
      "outputs": [
        {
          "output_type": "stream",
          "name": "stdout",
          "text": [
            "The semestral grade of the student is 99.6\n",
            "Male\n",
            "My birthday is:2003-07-20\n"
          ]
        }
      ],
      "source": [
        "#@title Student's Grade in OOP\n",
        "\n",
        "Student_Name = 'Denzel Rafael K. Donato'#@param {type:\"string\"}\n",
        "prelim_grade = 100 #@param {type:\"number\"}\n",
        "midterm_grade = 100 #@param {type:\"number\"}\n",
        "final_grade = 99 #@param {type:\"number\"}\n",
        "semestral = (prelim_grade*0.30+midterm_grade*0.30+final_grade*0.40)\n",
        "\n",
        "print(\"The semestral grade of the student is \"+str(round((semestral),2)))\n",
        "\n",
        "Gender = \"Male\" #@param [\"Male\", \"Female\"]\n",
        "Birthdate = \"2003-07-20\" #@param {type:\"date\"}\n",
        "\n",
        "print(Gender)\n",
        "print(\"My birthday is\" +\":\" + Birthdate)"
      ]
    }
  ]
}