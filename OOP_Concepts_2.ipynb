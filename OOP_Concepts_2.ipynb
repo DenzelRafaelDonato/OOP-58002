{
  "nbformat": 4,
  "nbformat_minor": 0,
  "metadata": {
    "colab": {
      "name": "OOP Concepts 2.ipynb",
      "provenance": [],
      "authorship_tag": "ABX9TyMv9AbBhZ44DEMH9RJowEZm",
      "include_colab_link": true
    },
    "kernelspec": {
      "name": "python3",
      "display_name": "Python 3"
    },
    "language_info": {
      "name": "python"
    }
  },
  "cells": [
    {
      "cell_type": "markdown",
      "metadata": {
        "id": "view-in-github",
        "colab_type": "text"
      },
      "source": [
        "<a href=\"https://colab.research.google.com/github/DenzelRafaelDonato/OOP-58002/blob/main/OOP_Concepts_2.ipynb\" target=\"_parent\"><img src=\"https://colab.research.google.com/assets/colab-badge.svg\" alt=\"Open In Colab\"/></a>"
      ]
    },
    {
      "cell_type": "markdown",
      "source": [
        "Classes with Multiple Objects"
      ],
      "metadata": {
        "id": "kMFetM3MUq-S"
      }
    },
    {
      "cell_type": "code",
      "execution_count": 5,
      "metadata": {
        "colab": {
          "base_uri": "https://localhost:8080/"
        },
        "id": "nzUSd_L9S2sy",
        "outputId": "1dde5057-3795-413c-c06f-fa6dad505499"
      },
      "outputs": [
        {
          "output_type": "stream",
          "name": "stdout",
          "text": [
            "Griffon Vulture flies above clouds\n",
            "Common Crane flies above clouds\n",
            "Emu is the national bird of Philppines\n"
          ]
        }
      ],
      "source": [
        "class Birds:\n",
        "  def __init__(self,bird_name):\n",
        "    self.bird_name = bird_name\n",
        "  def flying_birds(self):\n",
        "    print(f\"{self.bird_name} flies above clouds\")\n",
        "  def non_flying_birds(self):\n",
        "    print(f\"{self.bird_name} is the national bird of Philppines\")\n",
        "  \n",
        "vulture = Birds(\"Griffon Vulture\")\n",
        "crane = Birds(\"Common Crane\")\n",
        "emu = Birds(\"Emu\")\n",
        "\n",
        "vulture.flying_birds()\n",
        "crane.flying_birds()\n",
        "emu.non_flying_birds()"
      ]
    },
    {
      "cell_type": "markdown",
      "source": [
        "Encapsulation"
      ],
      "metadata": {
        "id": "s0BnIn2AXKWk"
      }
    },
    {
      "cell_type": "code",
      "source": [
        "class foo:\n",
        "  def __init__(self,a,b):\n",
        "    self.a = a\n",
        "    self.b = b\n",
        "  def add(self):\n",
        "    return self.a + self.b\n",
        "  def sub(self):\n",
        "    return self.a - self.b\n",
        "\n",
        "foo_object = foo(3,4)\n",
        "print(foo_object.add())\n",
        "print(foo_object.sub())\n",
        "\n",
        "foo_object.b = 5  #(3,5)\n",
        "print(foo_object.b)\n",
        "print(foo_object.add()) #adding a and b\n",
        "print(foo_object.sub()) #subtracting a and b\n"
      ],
      "metadata": {
        "colab": {
          "base_uri": "https://localhost:8080/"
        },
        "id": "TwRD1WPcW9NM",
        "outputId": "5481b0bb-009c-4b70-e1d3-bdf505186347"
      },
      "execution_count": 6,
      "outputs": [
        {
          "output_type": "stream",
          "name": "stdout",
          "text": [
            "7\n",
            "-1\n",
            "5\n",
            "8\n",
            "-2\n"
          ]
        }
      ]
    },
    {
      "cell_type": "markdown",
      "source": [
        "Encapsulation (mangling with double underscore)\n",
        "\n"
      ],
      "metadata": {
        "id": "ri66-92zbqGc"
      }
    },
    {
      "cell_type": "code",
      "source": [
        "class foo:\n",
        "  def __init__(self,a,b):\n",
        "    self.__a = a\n",
        "    self.__b = b\n",
        "  def add(self):\n",
        "    return self.__a + self.__b\n",
        "  def sub(self):\n",
        "    return self.__a - self.__b\n",
        "foo_object = foo(3,4)\n",
        "\n",
        "print(foo_object.add()) #adding a and b\n",
        "print(foo_object.sub()) #subracting a and b\n",
        "\n",
        "foo_object__b = 5\n",
        "foo_object__a = 7\n",
        "\n",
        "print(foo_object.add())\n",
        "print(foo_object.sub())\n"
      ],
      "metadata": {
        "colab": {
          "base_uri": "https://localhost:8080/"
        },
        "id": "-BxQ-pp-buaG",
        "outputId": "a62341d6-b47f-4468-ac47-9d388acd6579"
      },
      "execution_count": 7,
      "outputs": [
        {
          "output_type": "stream",
          "name": "stdout",
          "text": [
            "7\n",
            "-1\n",
            "7\n",
            "-1\n"
          ]
        }
      ]
    },
    {
      "cell_type": "markdown",
      "source": [
        "Inheritance"
      ],
      "metadata": {
        "id": "cod_Q8VodbVj"
      }
    },
    {
      "cell_type": "code",
      "source": [
        "class Person:\n",
        "  def __init__(self,firstname,surname):\n",
        "    self.firstname = firstname\n",
        "    self.surname = surname\n",
        "  def printname(self):\n",
        "    print(self.firstname,self.surname)\n",
        "\n",
        "person = Person(\"Denzel\",\"Donato\")\n",
        "person.printname()\n",
        "\n",
        "class Student(Person):\n",
        "  pass\n",
        "\n",
        "person = Student(\"Mam\",\"Sayo\")\n",
        "person.printname()"
      ],
      "metadata": {
        "colab": {
          "base_uri": "https://localhost:8080/"
        },
        "id": "VUDXkcH4dF4b",
        "outputId": "07c2aed4-8275-4717-9ecb-4d144a9eb365"
      },
      "execution_count": 8,
      "outputs": [
        {
          "output_type": "stream",
          "name": "stdout",
          "text": [
            "Denzel Donato\n",
            "Mam Sayo\n"
          ]
        }
      ]
    },
    {
      "cell_type": "markdown",
      "source": [
        "Polymorphism"
      ],
      "metadata": {
        "id": "af-GnRkZgJ1h"
      }
    },
    {
      "cell_type": "code",
      "source": [
        "class RegularPolygon:\n",
        "  def __init__(self,side):\n",
        "    self.side = side\n",
        "class Square(RegularPolygon):\n",
        "  def area(self):\n",
        "    return self.side*self.side\n",
        "class EquilateralTriangle(RegularPolygon):\n",
        "  def area(self):\n",
        "    return self.side*self.side*0.433\n",
        "\n",
        "x = Square(4)\n",
        "y = EquilateralTriangle(3)\n",
        "\n",
        "print(x.area())\n",
        "print(y.area())"
      ],
      "metadata": {
        "colab": {
          "base_uri": "https://localhost:8080/"
        },
        "id": "Hg_JmBqAgLzU",
        "outputId": "df53528f-bd7e-45eb-80ea-bb03fa8d376b"
      },
      "execution_count": 9,
      "outputs": [
        {
          "output_type": "stream",
          "name": "stdout",
          "text": [
            "16\n",
            "3.897\n"
          ]
        }
      ]
    },
    {
      "cell_type": "markdown",
      "source": [
        "Application 1\n",
        "\n",
        "1. Create a Python program that displays the name of three students (Student 1, Student 2, and Student 3) and their term grades.\n",
        "2. Create a class name Person and attributes = std1, std2, std3, pre, mid,fin\n",
        "3. Compute the average of each term grade using Grade () method\n",
        "4. Information about student's grades must be hidden from others"
      ],
      "metadata": {
        "id": "nU41HWI8jeyA"
      }
    },
    {
      "cell_type": "code",
      "source": [
        "class Person:\n",
        "  def __init__ (self,std,pre,mid,fin):\n",
        "    self.std = std\n",
        "    self.pre = pre*0.30\n",
        "    self.mid = mid*0.30\n",
        "    self.fin = fin*0.40\n",
        "\n",
        "  def Grade (self):\n",
        "    print(\"Student\",self.std,\"has a prelim average grade of:\",self.pre)\n",
        "    print(\"Student\",self.std,\"has a prelim average grade of:\",self.mid)\n",
        "    print(\"Student\",self.std,\"has a prelim average grade of:\",self.fin)\n",
        "\n",
        "std1=Person(\"Denzel Donato\",95,92,93)\n",
        "std2=Person(\"Michael Meneses\",94,91,90)\n",
        "std3= Person(\"Dwayne Palcon\",94,98,99)\n",
        "\n",
        "std2.Grade()"
      ],
      "metadata": {
        "colab": {
          "base_uri": "https://localhost:8080/"
        },
        "id": "0PY2SvIaRjKT",
        "outputId": "729de71b-77c4-4b3c-907c-b9a5c4bea6b9"
      },
      "execution_count": 13,
      "outputs": [
        {
          "output_type": "stream",
          "name": "stdout",
          "text": [
            "Student Michael Meneses has a prelim average grade of: 28.2\n",
            "Student Michael Meneses has a prelim average grade of: 27.3\n",
            "Student Michael Meneses has a prelim average grade of: 36.0\n"
          ]
        }
      ]
    }
  ]
}