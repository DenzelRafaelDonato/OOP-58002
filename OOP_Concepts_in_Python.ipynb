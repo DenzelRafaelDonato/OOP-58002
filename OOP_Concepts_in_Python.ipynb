{
  "nbformat": 4,
  "nbformat_minor": 0,
  "metadata": {
    "colab": {
      "name": "OOP Concepts in Python",
      "provenance": [],
      "collapsed_sections": [],
      "authorship_tag": "ABX9TyMy+s1GWYpa0TxbdAuK/1DL",
      "include_colab_link": true
    },
    "kernelspec": {
      "name": "python3",
      "display_name": "Python 3"
    },
    "language_info": {
      "name": "python"
    }
  },
  "cells": [
    {
      "cell_type": "markdown",
      "metadata": {
        "id": "view-in-github",
        "colab_type": "text"
      },
      "source": [
        "<a href=\"https://colab.research.google.com/github/DenzelRafaelDonato/OOP-58002/blob/main/OOP_Concepts_in_Python.ipynb\" target=\"_parent\"><img src=\"https://colab.research.google.com/assets/colab-badge.svg\" alt=\"Open In Colab\"/></a>"
      ]
    },
    {
      "cell_type": "markdown",
      "source": [
        "Create a Class"
      ],
      "metadata": {
        "id": "9t6YkKzLHcx7"
      }
    },
    {
      "cell_type": "code",
      "source": [
        "class Car:\n",
        "  pass "
      ],
      "metadata": {
        "id": "Rq9_n2uHHiIt"
      },
      "execution_count": null,
      "outputs": []
    },
    {
      "cell_type": "markdown",
      "source": [
        "Create an Object"
      ],
      "metadata": {
        "id": "yJp2nXNKKwtE"
      }
    },
    {
      "cell_type": "code",
      "source": [
        "class Car:\n",
        "  def __init__(self,name,color): #all classes have function called__init__\n",
        "    self.name = name             #attribute names of class named Car\n",
        "    self.color = color\n",
        "\n",
        "  def description(self):\n",
        "    return \"The \"+self.name+\"has a color\"+self.color\n",
        "  \n",
        "  def show(self):\n",
        "    print(\"The \"+self.name+\"has a color\"+self.color)\n",
        "\n",
        "car1 = Car(\"Honda City \",\" red\")\n",
        "car1.show()"
      ],
      "metadata": {
        "colab": {
          "base_uri": "https://localhost:8080/"
        },
        "id": "KDXY4qXbKy-3",
        "outputId": "3d839f29-c5cd-48fa-c16c-2894539e2d96"
      },
      "execution_count": null,
      "outputs": [
        {
          "output_type": "stream",
          "name": "stdout",
          "text": [
            "The Honda City has a color red\n"
          ]
        }
      ]
    },
    {
      "cell_type": "markdown",
      "source": [
        "Object Methods"
      ],
      "metadata": {
        "id": "oQHX2k8tNtPy"
      }
    },
    {
      "cell_type": "code",
      "source": [
        "class Person:\n",
        "  def __init__(self,name,age):\n",
        "    self.name = name\n",
        "    self.age = age\n",
        "  def myFunction(self):\n",
        "    print(\"Hello! My name is\",self.name)\n",
        "    print(\"I am\",self.age)\n",
        "\n",
        "p1 = Person(\"Denzel\",18)\n",
        "p1.myFunction()"
      ],
      "metadata": {
        "colab": {
          "base_uri": "https://localhost:8080/"
        },
        "id": "0Z1K3QDoNvSw",
        "outputId": "53ecb107-5d3d-4d69-e2c4-24fba4fe826e"
      },
      "execution_count": null,
      "outputs": [
        {
          "output_type": "stream",
          "name": "stdout",
          "text": [
            "Hello! My name is Denzel\n",
            "I am 18\n"
          ]
        }
      ]
    },
    {
      "cell_type": "markdown",
      "source": [
        "Modify an Object Property"
      ],
      "metadata": {
        "id": "VkOPnZwJPmu8"
      }
    },
    {
      "cell_type": "code",
      "source": [
        "car1.name = \"Mitsubishi \"\n",
        "print(car1.name)\n",
        "\n",
        "car1.color = \" blue\"\n",
        "print(car1.color)"
      ],
      "metadata": {
        "colab": {
          "base_uri": "https://localhost:8080/"
        },
        "id": "83niQlhZPqMr",
        "outputId": "05702caf-82ba-4504-fbf3-289f03152cf3"
      },
      "execution_count": null,
      "outputs": [
        {
          "output_type": "stream",
          "name": "stdout",
          "text": [
            "Mitsubishi \n",
            " blue\n"
          ]
        }
      ]
    },
    {
      "cell_type": "code",
      "source": [
        "car1.show()"
      ],
      "metadata": {
        "colab": {
          "base_uri": "https://localhost:8080/"
        },
        "id": "56_WD4vlWNeH",
        "outputId": "5f62eb55-da0b-4577-a0a5-dffef18672b2"
      },
      "execution_count": null,
      "outputs": [
        {
          "output_type": "stream",
          "name": "stdout",
          "text": [
            "The Mitsubishi has a color blue\n"
          ]
        }
      ]
    },
    {
      "cell_type": "markdown",
      "source": [
        "Delete an Object Property"
      ],
      "metadata": {
        "id": "1Ey5ZZBWWhpv"
      }
    },
    {
      "cell_type": "code",
      "source": [
        "del car1.color\n",
        "print(car1.color)"
      ],
      "metadata": {
        "colab": {
          "base_uri": "https://localhost:8080/",
          "height": 183
        },
        "id": "AF1hFDoxWjgT",
        "outputId": "164c6644-6f04-4d93-c3a5-ec2fe90f1b2f"
      },
      "execution_count": null,
      "outputs": [
        {
          "output_type": "error",
          "ename": "AttributeError",
          "evalue": "ignored",
          "traceback": [
            "\u001b[0;31m---------------------------------------------------------------------------\u001b[0m",
            "\u001b[0;31mAttributeError\u001b[0m                            Traceback (most recent call last)",
            "\u001b[0;32m<ipython-input-61-4849355a0500>\u001b[0m in \u001b[0;36m<module>\u001b[0;34m()\u001b[0m\n\u001b[1;32m      1\u001b[0m \u001b[0;32mdel\u001b[0m \u001b[0mcar1\u001b[0m\u001b[0;34m.\u001b[0m\u001b[0mcolor\u001b[0m\u001b[0;34m\u001b[0m\u001b[0;34m\u001b[0m\u001b[0m\n\u001b[0;32m----> 2\u001b[0;31m \u001b[0mprint\u001b[0m\u001b[0;34m(\u001b[0m\u001b[0mcar1\u001b[0m\u001b[0;34m.\u001b[0m\u001b[0mcolor\u001b[0m\u001b[0;34m)\u001b[0m\u001b[0;34m\u001b[0m\u001b[0;34m\u001b[0m\u001b[0m\n\u001b[0m",
            "\u001b[0;31mAttributeError\u001b[0m: 'Car' object has no attribute 'color'"
          ]
        }
      ]
    },
    {
      "cell_type": "code",
      "source": [
        "print(car1.name)\n",
        "print(car1.color)"
      ],
      "metadata": {
        "colab": {
          "base_uri": "https://localhost:8080/",
          "height": 200
        },
        "id": "lnx3TAeHXAA8",
        "outputId": "5ded6e0f-99e5-4ee2-d288-d8a5ac9c8425"
      },
      "execution_count": null,
      "outputs": [
        {
          "output_type": "stream",
          "name": "stdout",
          "text": [
            "Mitsubishi \n"
          ]
        },
        {
          "output_type": "error",
          "ename": "AttributeError",
          "evalue": "ignored",
          "traceback": [
            "\u001b[0;31m---------------------------------------------------------------------------\u001b[0m",
            "\u001b[0;31mAttributeError\u001b[0m                            Traceback (most recent call last)",
            "\u001b[0;32m<ipython-input-63-b3300dc57d2d>\u001b[0m in \u001b[0;36m<module>\u001b[0;34m()\u001b[0m\n\u001b[1;32m      1\u001b[0m \u001b[0mprint\u001b[0m\u001b[0;34m(\u001b[0m\u001b[0mcar1\u001b[0m\u001b[0;34m.\u001b[0m\u001b[0mname\u001b[0m\u001b[0;34m)\u001b[0m\u001b[0;34m\u001b[0m\u001b[0;34m\u001b[0m\u001b[0m\n\u001b[0;32m----> 2\u001b[0;31m \u001b[0mprint\u001b[0m\u001b[0;34m(\u001b[0m\u001b[0mcar1\u001b[0m\u001b[0;34m.\u001b[0m\u001b[0mcolor\u001b[0m\u001b[0;34m)\u001b[0m\u001b[0;34m\u001b[0m\u001b[0;34m\u001b[0m\u001b[0m\n\u001b[0m",
            "\u001b[0;31mAttributeError\u001b[0m: 'Car' object has no attribute 'color'"
          ]
        }
      ]
    },
    {
      "cell_type": "markdown",
      "source": [
        "Application 1- Write a Python program that computes for the Area and Perimeter of a Square, and create a class name Square with side as its attribute."
      ],
      "metadata": {
        "id": "BCW7hQpEXtbL"
      }
    },
    {
      "cell_type": "code",
      "source": [
        "#Area of a Square = s's\n",
        "#Perimeter of a Square = 4's = s+s+s+s\n",
        "\n",
        "class Square:\n",
        "  def __init__(self,side):\n",
        "    self.side = side\n",
        "\n",
        "  def Area(self):\n",
        "    return self.side*self.side\n",
        "  \n",
        "  def Perimeter(self):\n",
        "    return 4*self.side\n",
        "\n",
        "  def display(self):\n",
        "    print(\"The area of a square is\", self.Area())\n",
        "    print(\"The perimeter of a square is\", self.Perimeter())\n",
        "\n",
        "sq1 = Square(2)\n",
        "sq1.display()"
      ],
      "metadata": {
        "colab": {
          "base_uri": "https://localhost:8080/"
        },
        "id": "0CIqNM4oXvDi",
        "outputId": "446ff1c1-bfee-434e-dd23-a2a6ebf7b4d6"
      },
      "execution_count": null,
      "outputs": [
        {
          "output_type": "stream",
          "name": "stdout",
          "text": [
            "The area of a square is 4\n",
            "The perimeter of a square is 8\n"
          ]
        }
      ]
    },
    {
      "cell_type": "markdown",
      "source": [
        "Application 1 - Write a Python program that displays your student no. and fullname(Surname, First Name) and create a class name OOP_58002"
      ],
      "metadata": {
        "id": "268-G1SEaU7-"
      }
    },
    {
      "cell_type": "code",
      "source": [
        "#Name: Denzel Rafael K. Donato\n",
        "#Student Number: 202117497\n",
        "\n",
        "class OOP_58002:\n",
        "  def __init__(self,name,number):\n",
        "    self.name = name\n",
        "    self.number = number\n",
        "  def myFunction(self):\n",
        "    print(\"My name is:\",self.name)\n",
        "    print(\"My student number is:\",self.number)\n",
        "\n",
        "p1 = OOP_58002(\"Donato,Denzel Rafael K.\", 202117497)\n",
        "p1.myFunction()"
      ],
      "metadata": {
        "id": "gI2B2S0IavjB",
        "colab": {
          "base_uri": "https://localhost:8080/"
        },
        "outputId": "fdbdd054-a41c-4652-e387-35a7cd190c4a"
      },
      "execution_count": 4,
      "outputs": [
        {
          "output_type": "stream",
          "name": "stdout",
          "text": [
            "My name is: Donato,Denzel Rafael K.\n",
            "My student number is: 202117497\n"
          ]
        }
      ]
    }
  ]
}