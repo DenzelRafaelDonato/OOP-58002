{
  "nbformat": 4,
  "nbformat_minor": 0,
  "metadata": {
    "colab": {
      "name": "Midterm Exam.ipynb",
      "provenance": [],
      "authorship_tag": "ABX9TyOre4Q4O+00cvYgV2N3L+dM",
      "include_colab_link": true
    },
    "kernelspec": {
      "name": "python3",
      "display_name": "Python 3"
    },
    "language_info": {
      "name": "python"
    }
  },
  "cells": [
    {
      "cell_type": "markdown",
      "metadata": {
        "id": "view-in-github",
        "colab_type": "text"
      },
      "source": [
        "<a href=\"https://colab.research.google.com/github/DenzelRafaelDonato/OOP-58002/blob/main/Midterm_Exam.ipynb\" target=\"_parent\"><img src=\"https://colab.research.google.com/assets/colab-badge.svg\" alt=\"Open In Colab\"/></a>"
      ]
    },
    {
      "cell_type": "markdown",
      "source": [
        "#Program 1"
      ],
      "metadata": {
        "id": "x9EAv-Z7X7AJ"
      }
    },
    {
      "cell_type": "code",
      "execution_count": 7,
      "metadata": {
        "colab": {
          "base_uri": "https://localhost:8080/"
        },
        "id": "9FMcqszLWmBb",
        "outputId": "6c4ec45c-70b2-4806-c59a-d9b82ac16beb"
      },
      "outputs": [
        {
          "output_type": "stream",
          "name": "stdout",
          "text": [
            "Enter the temperature in Celsius: 50\n",
            "323.15 Kelvin\n",
            "122.0 Fahrenheit\n",
            "Enter the temperature in Fahrenheit: 50\n",
            "10.0 Celsius\n",
            "Enter the temperature in Kelvin: 50\n",
            "-223.14999999999998 Celsius\n"
          ]
        }
      ],
      "source": [
        "def main():\n",
        "\n",
        " class TemperatureConversion:\n",
        "\n",
        "  def __init__(self, temp=1):\n",
        "\n",
        "   self._temp = temp\n",
        "\n",
        " class CelsiusToFahrenheit(TemperatureConversion):\n",
        "\n",
        "  def conversion(self):\n",
        "\n",
        "   return (self._temp * 9) / 5 + 32\n",
        "\n",
        " class CelsiusToKelvin(TemperatureConversion):\n",
        "\n",
        "  def conversion(self):\n",
        "\n",
        "   return self._temp + 273.15\n",
        "\n",
        " class FahrenheitToCelsius(TemperatureConversion):\n",
        "\n",
        "  def conversion(self):\n",
        "\n",
        "   return (self._temp-32)*5/9\n",
        "\n",
        " class KelvinToCelsius(TemperatureConversion):\n",
        "  \n",
        "  def conversion(self):\n",
        "\n",
        "   return self._temp - 273.15\n",
        "\n",
        " tempInCelsius = float(input(\"Enter the temperature in Celsius: \"))\n",
        "\n",
        " convert = CelsiusToKelvin(tempInCelsius)\n",
        "\n",
        " print(str(convert.conversion()) + \" Kelvin\")\n",
        "\n",
        " convert = CelsiusToFahrenheit(tempInCelsius)\n",
        "\n",
        " print(str(convert.conversion()) + \" Fahrenheit\")\n",
        "\n",
        " tempInFahrenheit = float(input(\"Enter the temperature in Fahrenheit: \"))\n",
        "\n",
        " convert = FahrenheitToCelsius(tempInFahrenheit)\n",
        " \n",
        " print (str(convert.conversion())+ \" Celsius\")\n",
        "\n",
        " tempInKelvin = float(input(\"Enter the temperature in Kelvin: \"))\n",
        "\n",
        " convert = KelvinToCelsius(tempInFahrenheit)\n",
        " \n",
        " print (str(convert.conversion())+ \" Celsius\")\n",
        "\n",
        "\n",
        "main()"
      ]
    },
    {
      "cell_type": "markdown",
      "source": [
        "Program 2"
      ],
      "metadata": {
        "id": "kXiGFhrkqAjI"
      }
    },
    {
      "cell_type": "code",
      "source": [
        "from tkinter import *\n",
        "\n",
        "class MidtermExam:\n",
        "    def __init__(self,win):\n",
        "        self.label=Label(win, text = 'Enter your full name:',fg = \"red\")\n",
        "        self.button=Button(win, text = \"Click to display your Fullname\", fg = \"Red\", command = self.print)\n",
        "        self.a1=Entry(bd = 8)\n",
        "        self.a2=Entry(bd = 8)\n",
        "        self.label.place(x=50, y = 35)\n",
        "        self.button.place(x=50, y = 100)\n",
        "        self.a1.place(x=300, y = 30)\n",
        "        self.a2.place(x=300, y = 100)\n",
        "\n",
        "    def print(self):\n",
        "        self.a2.insert(END, str(self.a1))\n",
        "\n",
        "window = Tk()\n",
        "myWin = MidtermExam(window)\n",
        "window.title('Midterm in OOP')\n",
        "window.geometry(\"700x300+10+10\")\n",
        "window.mainloop()"
      ],
      "metadata": {
        "id": "WAaMtOwKqBxI"
      },
      "execution_count": null,
      "outputs": []
    }
  ]
}