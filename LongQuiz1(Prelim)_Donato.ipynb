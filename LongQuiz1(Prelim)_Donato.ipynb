{
  "nbformat": 4,
  "nbformat_minor": 0,
  "metadata": {
    "colab": {
      "name": "LongQuiz1(Prelim)_Donato",
      "provenance": [],
      "authorship_tag": "ABX9TyNf2jTSqM+yIWgrKM4ELaZE",
      "include_colab_link": true
    },
    "kernelspec": {
      "name": "python3",
      "display_name": "Python 3"
    },
    "language_info": {
      "name": "python"
    }
  },
  "cells": [
    {
      "cell_type": "markdown",
      "metadata": {
        "id": "view-in-github",
        "colab_type": "text"
      },
      "source": [
        "<a href=\"https://colab.research.google.com/github/DenzelRafaelDonato/OOP-58002/blob/main/LongQuiz1(Prelim)_Donato.ipynb\" target=\"_parent\"><img src=\"https://colab.research.google.com/assets/colab-badge.svg\" alt=\"Open In Colab\"/></a>"
      ]
    },
    {
      "cell_type": "markdown",
      "source": [
        "##A python program that converts Celcius to Fahrenheit."
      ],
      "metadata": {
        "id": "27REMsLZMfA1"
      }
    },
    {
      "cell_type": "code",
      "source": [
        "#Celcius to Fahrenheit Formula: F = 1.8C + 32\n",
        "class Temperature:\n",
        "  def __init__(self,celsius):\n",
        "    self.celsius = celsius\n",
        "  def Fahrenheit (self):\n",
        "    return 1.8*self.celsius+32\n",
        "  def display (self):\n",
        "    print(\"The fahrenheit value of the temperature (in celsius) that you have entered is:\", self.Fahrenheit())\n",
        "\n",
        "f1=Temperature(float(input(\"Please enter a temperature in celsius: \")))\n",
        "f1.display()"
      ],
      "metadata": {
        "colab": {
          "base_uri": "https://localhost:8080/"
        },
        "id": "MrYfxcw3b0fb",
        "outputId": "a3d4793c-b381-4200-ae25-ca2f01ea5b58"
      },
      "execution_count": 31,
      "outputs": [
        {
          "output_type": "stream",
          "name": "stdout",
          "text": [
            "Please enter a temperature in celsius: 76\n",
            "The fahrenheit value of the temperature (in celsius) that you have entered is: 168.8\n"
          ]
        }
      ]
    }
  ]
}